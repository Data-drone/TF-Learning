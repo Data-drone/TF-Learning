{
 "cells": [
  {
   "cell_type": "code",
   "execution_count": 8,
   "metadata": {
    "collapsed": true
   },
   "outputs": [],
   "source": [
    "import numpy as np"
   ]
  },
  {
   "cell_type": "code",
   "execution_count": 9,
   "metadata": {
    "collapsed": false
   },
   "outputs": [],
   "source": [
    "import NN_Components\n",
    "reload(NN_Components)\n",
    "%autoreload 2"
   ]
  },
  {
   "cell_type": "code",
   "execution_count": 46,
   "metadata": {
    "collapsed": false
   },
   "outputs": [
    {
     "name": "stdout",
     "output_type": "stream",
     "text": [
      "read train images\n"
     ]
    }
   ],
   "source": [
    "%run TF_StateFarm.py"
   ]
  },
  {
   "cell_type": "code",
   "execution_count": 2,
   "metadata": {
    "collapsed": false
   },
   "outputs": [],
   "source": [
    "#train_data = train_data.astype('float16')"
   ]
  },
  {
   "cell_type": "code",
   "execution_count": 54,
   "metadata": {
    "collapsed": false
   },
   "outputs": [
    {
     "data": {
      "text/plain": [
       "224"
      ]
     },
     "execution_count": 54,
     "metadata": {},
     "output_type": "execute_result"
    }
   ],
   "source": [
    "224*224\n",
    "IMAGE_PIXELS\n",
    "IMAGE_SIZE"
   ]
  },
  {
   "cell_type": "code",
   "execution_count": 39,
   "metadata": {
    "collapsed": true
   },
   "outputs": [],
   "source": [
    "LEARNING_RATE = 1e-4\n",
    "epochs_completed = 0\n",
    "index_in_epoch = 0\n",
    "num_examples = train_data.shape[0]\n",
    "\n",
    "DROPOUT = 0.5\n",
    "BATCH_SIZE = 200\n",
    "image_width = 224\n",
    "image_height = 224"
   ]
  },
  {
   "cell_type": "code",
   "execution_count": 5,
   "metadata": {
    "collapsed": false
   },
   "outputs": [],
   "source": [
    "from NN_Components import *"
   ]
  },
  {
   "cell_type": "code",
   "execution_count": 55,
   "metadata": {
    "collapsed": false
   },
   "outputs": [
    {
     "data": {
      "text/plain": [
       "(22424,)"
      ]
     },
     "execution_count": 55,
     "metadata": {},
     "output_type": "execute_result"
    }
   ],
   "source": [
    "train_data.shape\n",
    "train_target.shape"
   ]
  },
  {
   "cell_type": "code",
   "execution_count": 63,
   "metadata": {
    "collapsed": true
   },
   "outputs": [],
   "source": [
    "train_data_s = train_data.reshape(-1, IMAGE_SIZE, IMAGE_SIZE, 3)\n",
    "train_target_s = to_categorical(train_target, NUM_CLASSES)"
   ]
  },
  {
   "cell_type": "code",
   "execution_count": 65,
   "metadata": {
    "collapsed": false
   },
   "outputs": [
    {
     "data": {
      "text/plain": [
       "(22424, 10)"
      ]
     },
     "execution_count": 65,
     "metadata": {},
     "output_type": "execute_result"
    }
   ],
   "source": [
    "train_target_s.shape"
   ]
  },
  {
   "cell_type": "code",
   "execution_count": 61,
   "metadata": {
    "collapsed": false
   },
   "outputs": [
    {
     "data": {
      "text/plain": [
       "336"
      ]
     },
     "execution_count": 61,
     "metadata": {},
     "output_type": "execute_result"
    }
   ],
   "source": [
    "Batches = train_data_s.shape[0] / BATCH_SIZE\n",
    "Batches"
   ]
  },
  {
   "cell_type": "code",
   "execution_count": 62,
   "metadata": {
    "collapsed": false
   },
   "outputs": [
    {
     "data": {
      "text/plain": [
       "(22424, 10)"
      ]
     },
     "execution_count": 62,
     "metadata": {},
     "output_type": "execute_result"
    }
   ],
   "source": [
    "train_target_s.shape"
   ]
  },
  {
   "cell_type": "code",
   "execution_count": null,
   "metadata": {
    "collapsed": true
   },
   "outputs": [],
   "source": [
    "x = tf.placeholder('float', shape=[BATCH_SIZE, image_width, image_width, 3])\n",
    "y_ = tf.placeholder('float', shape=[BATCH_SIZE, NUM_CLASSES])\n",
    "keep_prob = tf.placeholder('float')\n",
    "\n",
    "# do I initiatlise here?"
   ]
  },
  {
   "cell_type": "code",
   "execution_count": null,
   "metadata": {
    "collapsed": true
   },
   "outputs": [],
   "source": [
    "#def conv_net(x, weights, biases, dropout):\n",
    "    \n",
    "W1 = weight_variable(shape = [BATCH_SIZE, image_width, image_width, 3])\n",
    "b1 = bias_variable(shape = [BATCH_SIZE, image_width, image_width, 3])\n",
    "\n",
    "a1 = tf.nn.conv2d(x, W1, strides=[1, 5, 5, 3], padding='SAME') + tf.nn.bias_add()\n",
    "a2 = tf.nn.relu(a1)\n",
    "\n",
    "pooled = max_pool_2x2(a2,colours = 3)\n"
   ]
  },
  {
   "cell_type": "code",
   "execution_count": 5,
   "metadata": {
    "collapsed": false
   },
   "outputs": [],
   "source": [
    "# model\n",
    "#SHAPES = [batch, ]\n",
    "def inference(images):\n",
    "    \"\"\"\n",
    "    Args:\n",
    "        images: 4D tensor of [batch_size, IMAGE_SIZE, IMAGE_SIZE, 3] size.\n",
    "    Returns:\n",
    "        Logits\n",
    "    Raises:\n",
    "        \n",
    "    \"\"\"\n",
    "    #inputshape = [1]\n",
    "    with tf.variable_scope('conv1') as scope:\n",
    "        \n",
    "        # VGG zero pads first\n",
    "        \n",
    "        weights = weight_variable([5, 5, 3, 64]) # 5x5 filter across 3 colour channels 64 output\n",
    "        conv = tf.nn.conv2d(images, weights, strides = [1,2,2,1], padding = 'SAME')\n",
    "        biases = bias_variable([64])\n",
    "        bias = tf.nn.bias_add(conv, biases)\n",
    "        conv1 = tf.nn.relu(bias, name = scope.name)\n",
    "        # logging here\n",
    "        \n",
    "        pool1 = tf.nn.max_pool(conv1, ksize=[1,3,3,1], strides = [1,2,2,1], \n",
    "                               padding='SAME', name='pool1')\n",
    "        \n",
    "        norm1 = tf.nn.lrn(pool1, 4, bias=1.0, alpha=0.001 / 9.0, beta=0.75,\n",
    "                         name = 'norm1')\n",
    "\n",
    "    return norm1"
   ]
  }
 ],
 "metadata": {
  "kernelspec": {
   "display_name": "Python 2",
   "language": "python",
   "name": "python2"
  },
  "language_info": {
   "codemirror_mode": {
    "name": "ipython",
    "version": 2
   },
   "file_extension": ".py",
   "mimetype": "text/x-python",
   "name": "python",
   "nbconvert_exporter": "python",
   "pygments_lexer": "ipython2",
   "version": "2.7.12"
  }
 },
 "nbformat": 4,
 "nbformat_minor": 0
}
