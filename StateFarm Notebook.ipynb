{
 "cells": [
  {
   "cell_type": "markdown",
   "metadata": {},
   "source": [
    "# Load the data"
   ]
  },
  {
   "cell_type": "code",
   "execution_count": 1,
   "metadata": {
    "collapsed": true
   },
   "outputs": [],
   "source": [
    "from TF_StateFarm_Loader import *\n",
    "import numpy as np\n",
    "\n",
    "NUM_CLASSES = 10 # number of classes that we need\n",
    "IMAGE_SIZE = 224 # reduce to this size to fit the VGG network\n",
    "IMAGE_PIXELS = IMAGE_SIZE * IMAGE_SIZE\n",
    "LEARNING_RATE = 1e-4\n",
    "DROPOUT = 0.5\n",
    "BATCH_SIZE = 50"
   ]
  },
  {
   "cell_type": "code",
   "execution_count": 2,
   "metadata": {
    "collapsed": false
   },
   "outputs": [
    {
     "name": "stdout",
     "output_type": "stream",
     "text": [
      "read train images\n"
     ]
    }
   ],
   "source": [
    "train_data, train_target = Load_Statefarm_Train()\n",
    "num_examples = train_data.shape[0] # we have 22424 samples"
   ]
  },
  {
   "cell_type": "code",
   "execution_count": 3,
   "metadata": {
    "collapsed": false
   },
   "outputs": [
    {
     "data": {
      "text/plain": [
       "448.0"
      ]
     },
     "execution_count": 3,
     "metadata": {},
     "output_type": "execute_result"
    }
   ],
   "source": [
    "rounds = np.floor(num_examples/BATCH_SIZE)\n",
    "rounds"
   ]
  },
  {
   "cell_type": "code",
   "execution_count": 4,
   "metadata": {
    "collapsed": true
   },
   "outputs": [],
   "source": [
    "import tensorflow as tf"
   ]
  },
  {
   "cell_type": "code",
   "execution_count": 5,
   "metadata": {
    "collapsed": true
   },
   "outputs": [],
   "source": [
    "sess = tf.InteractiveSession()"
   ]
  },
  {
   "cell_type": "code",
   "execution_count": 6,
   "metadata": {
    "collapsed": false
   },
   "outputs": [],
   "source": [
    "x = tf.placeholder(tf.float32, shape=[BATCH_SIZE, IMAGE_SIZE, IMAGE_SIZE, 3])\n",
    "y_ = tf.placeholder(tf.float32, shape=[BATCH_SIZE])\n",
    "keep_prob = tf.placeholder(tf.float32)"
   ]
  },
  {
   "cell_type": "code",
   "execution_count": 7,
   "metadata": {
    "collapsed": false
   },
   "outputs": [
    {
     "data": {
      "text/plain": [
       "'0.9.0'"
      ]
     },
     "execution_count": 7,
     "metadata": {},
     "output_type": "execute_result"
    }
   ],
   "source": [
    "tf.__version__"
   ]
  },
  {
   "cell_type": "code",
   "execution_count": 8,
   "metadata": {
    "collapsed": false
   },
   "outputs": [],
   "source": [
    "# layers\n",
    "def get_bias(shape):\n",
    "    return tf.truncated_normal(shape, stddev=0.1, dtype=tf.float32)\n",
    "        #return tf.constant([name][1], name=\"biases\")\n",
    "\n",
    "def conv_layer(bottom, name, filters, channels):\n",
    "        with tf.variable_scope(name):\n",
    "            filt = tf.truncated_normal([3,3,channels,filters], dtype=tf.float32)\n",
    "            conv = tf.nn.conv2d(bottom, filt, [1, 1, 1, 1], padding='SAME')\n",
    "            conv_biases = tf.truncated_normal([filters], stddev=0.1,  dtype=tf.float32)\n",
    "            bias = tf.nn.bias_add(conv, conv_biases)\n",
    "\n",
    "            relu = tf.nn.relu(bias)\n",
    "            return relu\n",
    "\n",
    "def max_pool(bottom, name):\n",
    "        return tf.nn.max_pool(bottom, ksize=[1, 2, 2, 1], strides=[1, 2, 2, 1], \n",
    "                              padding='SAME', name=name)\n",
    "        \n",
    "conv1_1 = conv_layer(x, \"conv1_1\", 64, 3)\n",
    "conv1_2 = conv_layer(conv1_1, \"conv1_2\", 64, 64)\n",
    "pool1 = max_pool(conv1_2, \"pool_1\")\n",
    "\n",
    "conv2_1 = conv_layer(pool1, \"conv2_1\", 128, 64)\n",
    "conv2_2 = conv_layer(conv2_1, \"conv2_1\", 128, 128)\n",
    "pool2 = max_pool(conv2_2, \"pool_2\")\n",
    "\n",
    "conv3_1 = conv_layer(pool2, \"conv3_1\", 256, 128)\n",
    "conv3_2 = conv_layer(conv3_1, \"conv3_2\", 256, 256)\n",
    "conv3_3 = conv_layer(conv3_2, \"conv3_3\", 256, 256)\n",
    "pool3 = max_pool(conv3_3, \"pool_3\")\n",
    "\n",
    "conv4_1 = conv_layer(pool3, \"conv4_1\", 512, 256)\n",
    "conv4_2 = conv_layer(conv4_1, \"conv4_2\", 512, 512)\n",
    "conv4_3 = conv_layer(conv4_2, \"conv4_3\", 512, 512)\n",
    "pool4 = max_pool(conv4_3, \"pool_4\")\n",
    "\n",
    "shape = int(np.prod(pool4.get_shape()[1:]))\n",
    "fc1w = tf.Variable(tf.truncated_normal([shape, 10],dtype=tf.float32,stddev=1e-1), name='weights')\n",
    "fc1b = tf.Variable(tf.constant(1.0, shape=[10], dtype=tf.float32),\n",
    "                                 trainable=True, name='biases')\n",
    "pool5_flat = tf.reshape(pool4, [-1, shape])\n",
    "fc1l = tf.nn.bias_add(tf.matmul(pool5_flat, fc1w), fc1b)\n",
    "fc1 = tf.nn.relu(fc1l)"
   ]
  },
  {
   "cell_type": "code",
   "execution_count": 9,
   "metadata": {
    "collapsed": false,
    "scrolled": true
   },
   "outputs": [],
   "source": [
    "# need to declare all variables first\n",
    "sess.run(tf.initialize_all_variables())"
   ]
  },
  {
   "cell_type": "code",
   "execution_count": 10,
   "metadata": {
    "collapsed": true
   },
   "outputs": [],
   "source": [
    "probs = tf.nn.softmax(fc1)"
   ]
  },
  {
   "cell_type": "code",
   "execution_count": null,
   "metadata": {
    "collapsed": false
   },
   "outputs": [
    {
     "name": "stdout",
     "output_type": "stream",
     "text": [
      "Start: 0, End: 50\n",
      "(50, 224, 224, 3)\n",
      "(50,)\n",
      "Start: 50, End: 100\n",
      "(50, 224, 224, 3)\n",
      "(50,)\n",
      "Start: 100, End: 150\n",
      "(50, 224, 224, 3)\n",
      "(50,)\n"
     ]
    }
   ],
   "source": [
    "# Loop through and make the training batches\n",
    "\n",
    "for i in range(0, int(rounds) ):\n",
    "\n",
    "    start = i * BATCH_SIZE\n",
    "    \n",
    "    if (i < rounds-1) :    \n",
    "        end = (i + 1) * BATCH_SIZE\n",
    "    else:\n",
    "        end = num_examples\n",
    "    \n",
    "    Train_Batch_x = train_data[start:end]\n",
    "    Train_Batch_y = train_target[start:end]\n",
    "    print 'Start: %d, End: %d' % (start, end)\n",
    "    print Train_Batch_x.shape\n",
    "    print Train_Batch_y.shape\n",
    "    Train_Batch_x = Train_Batch_x.astype('float')\n",
    "    results = sess.run(probs, feed_dict={x: Train_Batch_x, y_:Train_Batch_y})\n",
    "    # TODO TF on Batch Code\n",
    "        "
   ]
  },
  {
   "cell_type": "markdown",
   "metadata": {},
   "source": [
    "### old testing code"
   ]
  },
  {
   "cell_type": "code",
   "execution_count": null,
   "metadata": {
    "collapsed": false
   },
   "outputs": [],
   "source": [
    "from NN_Components import *"
   ]
  },
  {
   "cell_type": "code",
   "execution_count": null,
   "metadata": {
    "collapsed": false
   },
   "outputs": [],
   "source": [
    "train_data.shape\n",
    "train_target.shape"
   ]
  },
  {
   "cell_type": "code",
   "execution_count": null,
   "metadata": {
    "collapsed": true
   },
   "outputs": [],
   "source": [
    "train_data_s = train_data.reshape(-1, IMAGE_SIZE, IMAGE_SIZE, 3)\n",
    "train_target_s = to_categorical(train_target, NUM_CLASSES)"
   ]
  },
  {
   "cell_type": "code",
   "execution_count": 3,
   "metadata": {
    "collapsed": false
   },
   "outputs": [],
   "source": [
    "import NN_Components\n",
    "#reload(NN_Components)\n",
    "%autoreload 2"
   ]
  },
  {
   "cell_type": "code",
   "execution_count": null,
   "metadata": {
    "collapsed": false
   },
   "outputs": [],
   "source": [
    "train_data_s.shape"
   ]
  },
  {
   "cell_type": "code",
   "execution_count": null,
   "metadata": {
    "collapsed": false
   },
   "outputs": [],
   "source": [
    "Batches = train_data_s.shape[0] / BATCH_SIZE\n",
    "Batches"
   ]
  },
  {
   "cell_type": "code",
   "execution_count": null,
   "metadata": {
    "collapsed": false
   },
   "outputs": [],
   "source": [
    "train_target_s.shape"
   ]
  },
  {
   "cell_type": "code",
   "execution_count": 13,
   "metadata": {
    "collapsed": true
   },
   "outputs": [],
   "source": [
    "import tensorflow as tf\n",
    "sess = tf.InteractiveSession()"
   ]
  },
  {
   "cell_type": "code",
   "execution_count": 14,
   "metadata": {
    "collapsed": true
   },
   "outputs": [],
   "source": [
    "x = tf.placeholder('float', shape=[BATCH_SIZE, image_width, image_width, 3])\n",
    "y_ = tf.placeholder('float', shape=[BATCH_SIZE, NUM_CLASSES])\n",
    "keep_prob = tf.placeholder('float')\n",
    "\n",
    "# do I initiatlise here?"
   ]
  },
  {
   "cell_type": "code",
   "execution_count": null,
   "metadata": {
    "collapsed": false
   },
   "outputs": [],
   "source": [
    "#def conv_net(x, weights, biases, dropout):\n",
    "    \n",
    "W1 = weight_variable(shape = [3, 3, 3, 64])\n",
    "b1 = bias_variable(shape = [64])\n",
    "\n",
    "a1 = tf.nn.conv2d(x, W1, strides=[1, 1, 1, 1], padding='SAME')\n",
    "a2 = tf.nn.relu(a1 + b1)\n",
    "\n",
    "W2 = weight_variable(shape = [3, 3, 64, 64])\n",
    "b2 = bias_variable(shape = [64])\n",
    "\n",
    "a3 = tf.nn.conv2d(a2, W2, strides=[1, 1, 1, 1], padding='SAME')\n",
    "a4 = tf.nn.relu(a3 + b2)\n",
    "\n",
    "pooled = max_pool_2x2(a4,colours = 1)\n",
    "\n",
    "# dense connect\n",
    "W_fc1 = weight_variable([112 * 112 * 64, 4096])\n",
    "b_fc1 = bias_variable([4096])\n",
    "\n",
    "h_pool2_flat = tf.reshape(pooled, [-1, 112*112*64])\n",
    "h_fc1 = tf.nn.relu(tf.matmul(h_pool2_flat, W_fc1) + b_fc1)\n",
    "\n",
    "# drop out\n",
    "h_fc1_drop = tf.nn.dropout(h_fc1, keep_prob)\n",
    "\n",
    "W_fc2 = weight_variable([4096, 10])\n",
    "b_fc2 = bias_variable([10])\n",
    "\n",
    "y_conv=tf.nn.softmax(tf.matmul(h_fc1_drop, W_fc2) + b_fc2)"
   ]
  },
  {
   "cell_type": "code",
   "execution_count": null,
   "metadata": {
    "collapsed": false
   },
   "outputs": [],
   "source": [
    "cross_entropy = tf.reduce_mean(-tf.reduce_sum(y_ * tf.log(y_conv), reduction_indices=[1]))\n",
    "train_step = tf.train.AdamOptimizer(1e-4).minimize(cross_entropy)\n",
    "correct_prediction = tf.equal(tf.argmax(y_conv,1), tf.argmax(y_,1))\n",
    "accuracy = tf.reduce_mean(tf.cast(correct_prediction, tf.float32))\n",
    "sess.run(tf.initialize_all_variables())\n"
   ]
  },
  {
   "cell_type": "code",
   "execution_count": null,
   "metadata": {
    "collapsed": true
   },
   "outputs": [],
   "source": [
    "for i in range(20000):\n",
    "  batch = mnist.train.next_batch(50) # need to fix\n",
    "  if i%100 == 0:\n",
    "    train_accuracy = accuracy.eval(feed_dict={\n",
    "        x:batch[0], y_: batch[1], keep_prob: 1.0})\n",
    "    print(\"step %d, training accuracy %g\"%(i, train_accuracy))\n",
    "  train_step.run(feed_dict={x: batch[0], y_: batch[1], keep_prob: 0.5})\n",
    "\n",
    "print(\"test accuracy %g\"%accuracy.eval(feed_dict={\n",
    "    x: mnist.test.images, y_: mnist.test.labels, keep_prob: 1.0}))"
   ]
  },
  {
   "cell_type": "code",
   "execution_count": 5,
   "metadata": {
    "collapsed": false
   },
   "outputs": [],
   "source": [
    "# model\n",
    "#SHAPES = [batch, ]\n",
    "def inference(images):\n",
    "    \"\"\"\n",
    "    Args:\n",
    "        images: 4D tensor of [batch_size, IMAGE_SIZE, IMAGE_SIZE, 3] size.\n",
    "    Returns:\n",
    "        Logits\n",
    "    Raises:\n",
    "        \n",
    "    \"\"\"\n",
    "    #inputshape = [1]\n",
    "    with tf.variable_scope('conv1') as scope:\n",
    "        \n",
    "        # VGG zero pads first\n",
    "        \n",
    "        weights = weight_variable([5, 5, 3, 64]) # 5x5 filter across 3 colour channels 64 output\n",
    "        conv = tf.nn.conv2d(images, weights, strides = [1,2,2,1], padding = 'SAME')\n",
    "        biases = bias_variable([64])\n",
    "        bias = tf.nn.bias_add(conv, biases)\n",
    "        conv1 = tf.nn.relu(bias, name = scope.name)\n",
    "        # logging here\n",
    "        \n",
    "        pool1 = tf.nn.max_pool(conv1, ksize=[1,3,3,1], strides = [1,2,2,1], \n",
    "                               padding='SAME', name='pool1')\n",
    "        \n",
    "        norm1 = tf.nn.lrn(pool1, 4, bias=1.0, alpha=0.001 / 9.0, beta=0.75,\n",
    "                         name = 'norm1')\n",
    "\n",
    "    return norm1"
   ]
  },
  {
   "cell_type": "code",
   "execution_count": 13,
   "metadata": {
    "collapsed": true
   },
   "outputs": [],
   "source": [
    "# testing framework\n",
    "import tensorflow as tf"
   ]
  },
  {
   "cell_type": "code",
   "execution_count": 16,
   "metadata": {
    "collapsed": true
   },
   "outputs": [],
   "source": [
    "matrix1 = tf.constant([[3., 3.]])\n",
    "matrix2 = tf.constant([[2.],[2.]])\n",
    "product = tf.matmul(matrix1, matrix2)"
   ]
  },
  {
   "cell_type": "code",
   "execution_count": 18,
   "metadata": {
    "collapsed": false
   },
   "outputs": [],
   "source": [
    "x = tf.placeholder(tf.float32, shape=[None, 784])\n",
    "y_ = tf.placeholder(tf.float32, shape=[None, 10])"
   ]
  },
  {
   "cell_type": "code",
   "execution_count": 19,
   "metadata": {
    "collapsed": true
   },
   "outputs": [],
   "source": [
    "W = tf.Variable(tf.zeros([784,10]))\n",
    "b = tf.Variable(tf.zeros([10]))"
   ]
  },
  {
   "cell_type": "code",
   "execution_count": 20,
   "metadata": {
    "collapsed": true
   },
   "outputs": [],
   "source": [
    "sess.run(tf.initialize_all_variables())"
   ]
  },
  {
   "cell_type": "code",
   "execution_count": 21,
   "metadata": {
    "collapsed": true
   },
   "outputs": [],
   "source": [
    "y = tf.nn.softmax(tf.matmul(x,W) + b)"
   ]
  },
  {
   "cell_type": "code",
   "execution_count": 22,
   "metadata": {
    "collapsed": true
   },
   "outputs": [],
   "source": [
    "cross_entropy = tf.reduce_mean(-tf.reduce_sum(y_ * tf.log(y), reduction_indices=[1]))"
   ]
  },
  {
   "cell_type": "code",
   "execution_count": 23,
   "metadata": {
    "collapsed": true
   },
   "outputs": [],
   "source": [
    "train_step = tf.train.GradientDescentOptimizer(0.5).minimize(cross_entropy)"
   ]
  }
 ],
 "metadata": {
  "kernelspec": {
   "display_name": "Python 2",
   "language": "python",
   "name": "python2"
  },
  "language_info": {
   "codemirror_mode": {
    "name": "ipython",
    "version": 2
   },
   "file_extension": ".py",
   "mimetype": "text/x-python",
   "name": "python",
   "nbconvert_exporter": "python",
   "pygments_lexer": "ipython2",
   "version": "2.7.12"
  }
 },
 "nbformat": 4,
 "nbformat_minor": 0
}
