{
 "cells": [
  {
   "cell_type": "markdown",
   "metadata": {},
   "source": [
    "# Load the data"
   ]
  },
  {
   "cell_type": "code",
   "execution_count": 6,
   "metadata": {
    "collapsed": true
   },
   "outputs": [],
   "source": [
    "from TF_StateFarm_Loader import *\n",
    "import numpy as np\n",
    "\n",
    "NUM_CLASSES = 10 # number of classes that we need\n",
    "IMAGE_SIZE = 224 # reduce to this size to fit the VGG network\n",
    "IMAGE_PIXELS = IMAGE_SIZE * IMAGE_SIZE\n",
    "LEARNING_RATE = 1e-4\n",
    "DROPOUT = 0.5\n",
    "BATCH_SIZE = 200"
   ]
  },
  {
   "cell_type": "code",
   "execution_count": 7,
   "metadata": {
    "collapsed": false
   },
   "outputs": [
    {
     "name": "stdout",
     "output_type": "stream",
     "text": [
      "read train images\n"
     ]
    }
   ],
   "source": [
    "train_data, train_target = Load_Statefarm_Train()\n",
    "num_examples = train_data.shape[0] # we have 22424 samples"
   ]
  },
  {
   "cell_type": "code",
   "execution_count": 13,
   "metadata": {
    "collapsed": false
   },
   "outputs": [
    {
     "data": {
      "text/plain": [
       "112.0"
      ]
     },
     "execution_count": 13,
     "metadata": {},
     "output_type": "execute_result"
    }
   ],
   "source": [
    "rounds = np.floor(num_examples/BATCH_SIZE)\n",
    "rounds"
   ]
  },
  {
   "cell_type": "code",
   "execution_count": 20,
   "metadata": {
    "collapsed": true
   },
   "outputs": [],
   "source": [
    "import tensorflow as tf"
   ]
  },
  {
   "cell_type": "code",
   "execution_count": null,
   "metadata": {
    "collapsed": true
   },
   "outputs": [],
   "source": [
    "sess = tf.InteractiveSession()"
   ]
  },
  {
   "cell_type": "code",
   "execution_count": 23,
   "metadata": {
    "collapsed": false
   },
   "outputs": [],
   "source": [
    "x = tf.placeholder('float', shape=[BATCH_SIZE, IMAGE_SIZE, IMAGE_SIZE, 3])\n",
    "y_ = tf.placeholder('float', shape=[BATCH_SIZE, NUM_CLASSES])\n",
    "keep_prob = tf.placeholder('float')"
   ]
  },
  {
   "cell_type": "code",
   "execution_count": null,
   "metadata": {
    "collapsed": true
   },
   "outputs": [],
   "source": [
    "sess.run(tf.initialize_all_variables())"
   ]
  },
  {
   "cell_type": "code",
   "execution_count": null,
   "metadata": {
    "collapsed": true
   },
   "outputs": [],
   "source": []
  },
  {
   "cell_type": "code",
   "execution_count": 19,
   "metadata": {
    "collapsed": false
   },
   "outputs": [],
   "source": [
    "# Loop through and make the training batches\n",
    "\n",
    "for i in range(0, int(rounds) ):\n",
    "    start = i * BATCH_SIZE\n",
    "    \n",
    "    if (i < rounds-1) :    \n",
    "        end = (i + 1) * BATCH_SIZE - 1\n",
    "    else:\n",
    "        end = num_examples\n",
    "    \n",
    "    Train_Batch_x = train_data[start:end]\n",
    "    Train_Batch_y = train_target[start:end]\n",
    "    #print 'Start: %d, End: %d' % (start, end)\n",
    "    \n",
    "    # TODO TF on Batch Code\n",
    "        "
   ]
  },
  {
   "cell_type": "markdown",
   "metadata": {},
   "source": [
    "### old testing code"
   ]
  },
  {
   "cell_type": "code",
   "execution_count": null,
   "metadata": {
    "collapsed": false
   },
   "outputs": [],
   "source": [
    "from NN_Components import *"
   ]
  },
  {
   "cell_type": "code",
   "execution_count": null,
   "metadata": {
    "collapsed": false
   },
   "outputs": [],
   "source": [
    "train_data.shape\n",
    "train_target.shape"
   ]
  },
  {
   "cell_type": "code",
   "execution_count": null,
   "metadata": {
    "collapsed": true
   },
   "outputs": [],
   "source": [
    "train_data_s = train_data.reshape(-1, IMAGE_SIZE, IMAGE_SIZE, 3)\n",
    "train_target_s = to_categorical(train_target, NUM_CLASSES)"
   ]
  },
  {
   "cell_type": "code",
   "execution_count": 3,
   "metadata": {
    "collapsed": false
   },
   "outputs": [],
   "source": [
    "import NN_Components\n",
    "#reload(NN_Components)\n",
    "%autoreload 2"
   ]
  },
  {
   "cell_type": "code",
   "execution_count": null,
   "metadata": {
    "collapsed": false
   },
   "outputs": [],
   "source": [
    "train_data_s.shape"
   ]
  },
  {
   "cell_type": "code",
   "execution_count": null,
   "metadata": {
    "collapsed": false
   },
   "outputs": [],
   "source": [
    "Batches = train_data_s.shape[0] / BATCH_SIZE\n",
    "Batches"
   ]
  },
  {
   "cell_type": "code",
   "execution_count": null,
   "metadata": {
    "collapsed": false
   },
   "outputs": [],
   "source": [
    "train_target_s.shape"
   ]
  },
  {
   "cell_type": "code",
   "execution_count": 13,
   "metadata": {
    "collapsed": true
   },
   "outputs": [],
   "source": [
    "import tensorflow as tf\n",
    "sess = tf.InteractiveSession()"
   ]
  },
  {
   "cell_type": "code",
   "execution_count": 14,
   "metadata": {
    "collapsed": true
   },
   "outputs": [],
   "source": [
    "x = tf.placeholder('float', shape=[BATCH_SIZE, image_width, image_width, 3])\n",
    "y_ = tf.placeholder('float', shape=[BATCH_SIZE, NUM_CLASSES])\n",
    "keep_prob = tf.placeholder('float')\n",
    "\n",
    "# do I initiatlise here?"
   ]
  },
  {
   "cell_type": "code",
   "execution_count": null,
   "metadata": {
    "collapsed": false
   },
   "outputs": [],
   "source": [
    "#def conv_net(x, weights, biases, dropout):\n",
    "    \n",
    "W1 = weight_variable(shape = [3, 3, 3, 64])\n",
    "b1 = bias_variable(shape = [64])\n",
    "\n",
    "a1 = tf.nn.conv2d(x, W1, strides=[1, 1, 1, 1], padding='SAME')\n",
    "a2 = tf.nn.relu(a1 + b1)\n",
    "\n",
    "W2 = weight_variable(shape = [3, 3, 64, 64])\n",
    "b2 = bias_variable(shape = [64])\n",
    "\n",
    "a3 = tf.nn.conv2d(a2, W2, strides=[1, 1, 1, 1], padding='SAME')\n",
    "a4 = tf.nn.relu(a3 + b2)\n",
    "\n",
    "pooled = max_pool_2x2(a4,colours = 1)\n",
    "\n",
    "# dense connect\n",
    "W_fc1 = weight_variable([112 * 112 * 64, 4096])\n",
    "b_fc1 = bias_variable([4096])\n",
    "\n",
    "h_pool2_flat = tf.reshape(pooled, [-1, 112*112*64])\n",
    "h_fc1 = tf.nn.relu(tf.matmul(h_pool2_flat, W_fc1) + b_fc1)\n",
    "\n",
    "# drop out\n",
    "h_fc1_drop = tf.nn.dropout(h_fc1, keep_prob)\n",
    "\n",
    "W_fc2 = weight_variable([4096, 10])\n",
    "b_fc2 = bias_variable([10])\n",
    "\n",
    "y_conv=tf.nn.softmax(tf.matmul(h_fc1_drop, W_fc2) + b_fc2)"
   ]
  },
  {
   "cell_type": "code",
   "execution_count": null,
   "metadata": {
    "collapsed": false
   },
   "outputs": [],
   "source": [
    "cross_entropy = tf.reduce_mean(-tf.reduce_sum(y_ * tf.log(y_conv), reduction_indices=[1]))\n",
    "train_step = tf.train.AdamOptimizer(1e-4).minimize(cross_entropy)\n",
    "correct_prediction = tf.equal(tf.argmax(y_conv,1), tf.argmax(y_,1))\n",
    "accuracy = tf.reduce_mean(tf.cast(correct_prediction, tf.float32))\n",
    "sess.run(tf.initialize_all_variables())\n"
   ]
  },
  {
   "cell_type": "code",
   "execution_count": null,
   "metadata": {
    "collapsed": true
   },
   "outputs": [],
   "source": [
    "for i in range(20000):\n",
    "  batch = mnist.train.next_batch(50) # need to fix\n",
    "  if i%100 == 0:\n",
    "    train_accuracy = accuracy.eval(feed_dict={\n",
    "        x:batch[0], y_: batch[1], keep_prob: 1.0})\n",
    "    print(\"step %d, training accuracy %g\"%(i, train_accuracy))\n",
    "  train_step.run(feed_dict={x: batch[0], y_: batch[1], keep_prob: 0.5})\n",
    "\n",
    "print(\"test accuracy %g\"%accuracy.eval(feed_dict={\n",
    "    x: mnist.test.images, y_: mnist.test.labels, keep_prob: 1.0}))"
   ]
  },
  {
   "cell_type": "code",
   "execution_count": 5,
   "metadata": {
    "collapsed": false
   },
   "outputs": [],
   "source": [
    "# model\n",
    "#SHAPES = [batch, ]\n",
    "def inference(images):\n",
    "    \"\"\"\n",
    "    Args:\n",
    "        images: 4D tensor of [batch_size, IMAGE_SIZE, IMAGE_SIZE, 3] size.\n",
    "    Returns:\n",
    "        Logits\n",
    "    Raises:\n",
    "        \n",
    "    \"\"\"\n",
    "    #inputshape = [1]\n",
    "    with tf.variable_scope('conv1') as scope:\n",
    "        \n",
    "        # VGG zero pads first\n",
    "        \n",
    "        weights = weight_variable([5, 5, 3, 64]) # 5x5 filter across 3 colour channels 64 output\n",
    "        conv = tf.nn.conv2d(images, weights, strides = [1,2,2,1], padding = 'SAME')\n",
    "        biases = bias_variable([64])\n",
    "        bias = tf.nn.bias_add(conv, biases)\n",
    "        conv1 = tf.nn.relu(bias, name = scope.name)\n",
    "        # logging here\n",
    "        \n",
    "        pool1 = tf.nn.max_pool(conv1, ksize=[1,3,3,1], strides = [1,2,2,1], \n",
    "                               padding='SAME', name='pool1')\n",
    "        \n",
    "        norm1 = tf.nn.lrn(pool1, 4, bias=1.0, alpha=0.001 / 9.0, beta=0.75,\n",
    "                         name = 'norm1')\n",
    "\n",
    "    return norm1"
   ]
  }
 ],
 "metadata": {
  "kernelspec": {
   "display_name": "Python 2",
   "language": "python",
   "name": "python2"
  },
  "language_info": {
   "codemirror_mode": {
    "name": "ipython",
    "version": 2
   },
   "file_extension": ".py",
   "mimetype": "text/x-python",
   "name": "python",
   "nbconvert_exporter": "python",
   "pygments_lexer": "ipython2",
   "version": "2.7.12"
  }
 },
 "nbformat": 4,
 "nbformat_minor": 0
}
